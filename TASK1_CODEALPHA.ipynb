{
  "cells": [
    {
      "cell_type": "markdown",
      "metadata": {
        "id": "W9ETpxcnl2DA"
      },
      "source": [
        "▶**TASK-1 : TITANIC SURVIVAL PREDICTION**\n",
        "\n",
        "> Author: Sahil Basheer Shaik\n",
        "\n",
        "> Organization: CodeAlpha\n",
        "\n",
        "> Batch: July\n",
        "\n",
        "> Domain: Data Science\n",
        "\n",
        "\n",
        "> Aim: To build a model that predicts whether a\n",
        "passenger on the Titanic survived or not.\n",
        "\n"
      ]
    },
    {
      "cell_type": "markdown",
      "metadata": {
        "id": "xEpiOs2xuhg4"
      },
      "source": [
        "*IMPORTING IMPORTANT LIBRARIES*\n",
        "\n"
      ]
    },
    {
      "cell_type": "code",
      "execution_count": 1,
      "metadata": {
        "id": "5_ERt-QNLfC6"
      },
      "outputs": [],
      "source": [
        "import numpy as np\n",
        "import pandas as pd\n",
        "import matplotlib.pyplot as plt\n",
        "import seaborn as sns\n",
        "from sklearn.model_selection import train_test_split\n",
        "from sklearn.ensemble import RandomForestClassifier\n",
        "from sklearn.metrics import accuracy_score, classification_report, confusion_matrix\n",
        "from sklearn.preprocessing import LabelEncoder\n"
      ]
    },
    {
      "cell_type": "markdown",
      "metadata": {
        "id": "0WnCMCaXvtdj"
      },
      "source": [
        "*IMPORTING DATASET*"
      ]
    },
    {
      "cell_type": "code",
      "execution_count": 2,
      "metadata": {
        "id": "YlaydWx4L6fY"
      },
      "outputs": [],
      "source": [
        "# Load the dataset\n",
        "data = pd.read_csv('/mnt/data/tested.csv')  # Using the uploaded dataset\n",
        "data.head()"
      ]
    },
    {
      "cell_type": "markdown",
      "metadata": {
        "id": "xEpiOs2xuhg4"
      },
      "source": [
        "*DATA PREPROCESSING*"
      ]
    },
    {
      "cell_type": "code",
      "execution_count": 3,
      "metadata": {
        "id": "5_ERt-QNLfC6"
      },
      "outputs": [],
      "source": [
        "# Handle missing values\n",
        "data.fillna(method='ffill', inplace=True)\n",
        "\n",
        "# Encode categorical variables\n",
        "label_encoders = {}\n",
        "categorical_columns = ['Sex', 'Embarked', 'Pclass']\n",
        "\n",
        "for column in categorical_columns:\n",
        "    label_encoders[column] = LabelEncoder()\n",
        "    data[column] = label_encoders[column].fit_transform(data[column])\n",
        "\n",
        "# Define features and target variable\n",
        "X = data[['Pclass', 'Sex', 'Age', 'SibSp', 'Parch', 'Fare', 'Embarked']]\n",
        "y = data['Survived']\n"
      ]
    },
    {
      "cell_type": "markdown",
      "metadata": {
        "id": "0WnCMCaXvtdj"
      },
      "source": [
        "*TRAINING THE MODEL*"
      ]
    },
    {
      "cell_type": "code",
      "execution_count": 4,
      "metadata": {
        "id": "YlaydWx4L6fY"
      },
      "outputs": [],
      "source": [
        "# Split the data into training and testing sets\n",
        "X_train, X_test, y_train, y_test = train_test_split(X, y, test_size=0.2, random_state=42)\n",
        "\n",
        "# Initialize and train the Random Forest model\n",
        "model = RandomForestClassifier(n_estimators=100, random_state=42)\n",
        "model.fit(X_train, y_train)\n",
        "\n",
        "# Predict on the test set\n",
        "y_pred = model.predict(X_test)\n"
      ]
    },
    {
      "cell_type": "markdown",
      "metadata": {
        "id": "0WnCMCaXvtdj"
      },
      "source": [
        "*EVALUATING THE MODEL*"
      ]
    },
    {
      "cell_type": "code",
      "execution_count": 5,
      "metadata": {
        "id": "5_ERt-QNLfC6"
      },
      "outputs": [],
      "source": [
        "# Evaluate the model\n",
        "print('Accuracy:', accuracy_score(y_test, y_pred))\n",
        "print('\\nClassification Report:\\n', classification_report(y_test, y_pred))\n",
        "print('\\nConfusion Matrix:\\n', confusion_matrix(y_test, y_pred))\n",
        "\n",
        "# Feature Importance\n",
        "feature_importance = pd.Series(model.feature_importances_, index=X.columns).sort_values(ascending=False)\n",
        "print('\\nFeature Importance:\\n', feature_importance)\n"
      ]
    },
    {
      "cell_type": "markdown",
      "metadata": {
        "id": "0WnCMCaXvtdj"
      },
      "source": [
        "*SAVING THE MODEL*"
      ]
    },
    {
      "cell_type": "code",
      "execution_count": 6,
      "metadata": {
        "id": "YlaydWx4L6fY"
      },
      "outputs": [],
      "source": [
        "# Optional: Save the model for later use\n",
        "import joblib\n",
        "joblib.dump(model, 'titanic_survival_model.pkl')\n"
      ]
    }
  ],
  "metadata": {
    "kernelspec": {
      "display_name": "Python 3",
      "language": "python",
      "name": "python3"
    },
    "language_info": {
      "codemirror_mode": {
        "name": "ipython",
        "version": 3
      },
      "file_extension": ".py",
      "mimetype": "text/x-python",
      "name": "python",
      "nbconvert_exporter": "python",
      "pygments_lexer": "ipython3",
      "version": "3.7.11"
    }
  },
  "nbformat": 4,
  "nbformat_minor": 1
}
